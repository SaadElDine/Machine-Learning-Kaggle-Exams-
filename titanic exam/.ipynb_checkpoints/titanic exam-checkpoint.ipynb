{
 "cells": [
  {
   "cell_type": "markdown",
   "metadata": {},
   "source": [
    "# Titanic Exam\n",
    "\n",
    "In 1912, the ship RMS Titanic struck an iceberg on its maiden voyage and sank, resulting in the deaths of most of its passengers and crew. In this introductory project, we will explore a subset of the RMS Titanic passenger manifest to determine which features best predict whether someone survived or did not survive. To complete this project, you will need to implement several conditional predictions and answer the questions below. Your project submission will be evaluated based on the completion of the code and your responses to the questions.\n",
    "> **Tip:** Quoted sections like this will provide helpful instructions on how to navigate and use an iPython notebook. "
   ]
  },
  {
   "cell_type": "markdown",
   "metadata": {},
   "source": [
    "# Getting Started\n",
    "To begin working with the RMS Titanic passenger data, we'll first need to `import` the functionality we need, and load our data into a `pandas` DataFrame.  \n",
    "Run the code cell below to load our data and display the first few entries (passengers) for examination using the `.head()` function.\n"
   ]
  },
  {
   "cell_type": "code",
   "execution_count": 1,
   "metadata": {
    "scrolled": true
   },
   "outputs": [
    {
     "name": "stdout",
     "output_type": "stream",
     "text": [
      "(891, 12)\n"
     ]
    },
    {
     "data": {
      "text/html": [
       "<div>\n",
       "<style scoped>\n",
       "    .dataframe tbody tr th:only-of-type {\n",
       "        vertical-align: middle;\n",
       "    }\n",
       "\n",
       "    .dataframe tbody tr th {\n",
       "        vertical-align: top;\n",
       "    }\n",
       "\n",
       "    .dataframe thead th {\n",
       "        text-align: right;\n",
       "    }\n",
       "</style>\n",
       "<table border=\"1\" class=\"dataframe\">\n",
       "  <thead>\n",
       "    <tr style=\"text-align: right;\">\n",
       "      <th></th>\n",
       "      <th>PassengerId</th>\n",
       "      <th>Survived</th>\n",
       "      <th>Pclass</th>\n",
       "      <th>Name</th>\n",
       "      <th>Sex</th>\n",
       "      <th>Age</th>\n",
       "      <th>SibSp</th>\n",
       "      <th>Parch</th>\n",
       "      <th>Ticket</th>\n",
       "      <th>Fare</th>\n",
       "      <th>Cabin</th>\n",
       "      <th>Embarked</th>\n",
       "    </tr>\n",
       "  </thead>\n",
       "  <tbody>\n",
       "    <tr>\n",
       "      <th>0</th>\n",
       "      <td>1</td>\n",
       "      <td>0</td>\n",
       "      <td>3</td>\n",
       "      <td>Braund, Mr. Owen Harris</td>\n",
       "      <td>male</td>\n",
       "      <td>22.0</td>\n",
       "      <td>1</td>\n",
       "      <td>0</td>\n",
       "      <td>A/5 21171</td>\n",
       "      <td>7.2500</td>\n",
       "      <td>NaN</td>\n",
       "      <td>S</td>\n",
       "    </tr>\n",
       "    <tr>\n",
       "      <th>1</th>\n",
       "      <td>2</td>\n",
       "      <td>1</td>\n",
       "      <td>1</td>\n",
       "      <td>Cumings, Mrs. John Bradley (Florence Briggs Th...</td>\n",
       "      <td>female</td>\n",
       "      <td>38.0</td>\n",
       "      <td>1</td>\n",
       "      <td>0</td>\n",
       "      <td>PC 17599</td>\n",
       "      <td>71.2833</td>\n",
       "      <td>C85</td>\n",
       "      <td>C</td>\n",
       "    </tr>\n",
       "    <tr>\n",
       "      <th>2</th>\n",
       "      <td>3</td>\n",
       "      <td>1</td>\n",
       "      <td>3</td>\n",
       "      <td>Heikkinen, Miss. Laina</td>\n",
       "      <td>female</td>\n",
       "      <td>26.0</td>\n",
       "      <td>0</td>\n",
       "      <td>0</td>\n",
       "      <td>STON/O2. 3101282</td>\n",
       "      <td>7.9250</td>\n",
       "      <td>NaN</td>\n",
       "      <td>S</td>\n",
       "    </tr>\n",
       "    <tr>\n",
       "      <th>3</th>\n",
       "      <td>4</td>\n",
       "      <td>1</td>\n",
       "      <td>1</td>\n",
       "      <td>Futrelle, Mrs. Jacques Heath (Lily May Peel)</td>\n",
       "      <td>female</td>\n",
       "      <td>35.0</td>\n",
       "      <td>1</td>\n",
       "      <td>0</td>\n",
       "      <td>113803</td>\n",
       "      <td>53.1000</td>\n",
       "      <td>C123</td>\n",
       "      <td>S</td>\n",
       "    </tr>\n",
       "    <tr>\n",
       "      <th>4</th>\n",
       "      <td>5</td>\n",
       "      <td>0</td>\n",
       "      <td>3</td>\n",
       "      <td>Allen, Mr. William Henry</td>\n",
       "      <td>male</td>\n",
       "      <td>35.0</td>\n",
       "      <td>0</td>\n",
       "      <td>0</td>\n",
       "      <td>373450</td>\n",
       "      <td>8.0500</td>\n",
       "      <td>NaN</td>\n",
       "      <td>S</td>\n",
       "    </tr>\n",
       "  </tbody>\n",
       "</table>\n",
       "</div>"
      ],
      "text/plain": [
       "   PassengerId  Survived  Pclass  \\\n",
       "0            1         0       3   \n",
       "1            2         1       1   \n",
       "2            3         1       3   \n",
       "3            4         1       1   \n",
       "4            5         0       3   \n",
       "\n",
       "                                                Name     Sex   Age  SibSp  \\\n",
       "0                            Braund, Mr. Owen Harris    male  22.0      1   \n",
       "1  Cumings, Mrs. John Bradley (Florence Briggs Th...  female  38.0      1   \n",
       "2                             Heikkinen, Miss. Laina  female  26.0      0   \n",
       "3       Futrelle, Mrs. Jacques Heath (Lily May Peel)  female  35.0      1   \n",
       "4                           Allen, Mr. William Henry    male  35.0      0   \n",
       "\n",
       "   Parch            Ticket     Fare Cabin Embarked  \n",
       "0      0         A/5 21171   7.2500   NaN        S  \n",
       "1      0          PC 17599  71.2833   C85        C  \n",
       "2      0  STON/O2. 3101282   7.9250   NaN        S  \n",
       "3      0            113803  53.1000  C123        S  \n",
       "4      0            373450   8.0500   NaN        S  "
      ]
     },
     "metadata": {},
     "output_type": "display_data"
    },
    {
     "name": "stderr",
     "output_type": "stream",
     "text": [
      "C:\\Users\\lenovo\\anaconda3\\lib\\site-packages\\numpy\\core\\fromnumeric.py:3438: FutureWarning: In a future version, DataFrame.mean(axis=None) will return a scalar mean over the entire DataFrame. To retain the old behavior, use 'frame.mean(axis=0)' or just 'frame.mean()'\n",
      "  return mean(axis=axis, dtype=dtype, out=out, **kwargs)\n",
      "C:\\Users\\lenovo\\anaconda3\\lib\\site-packages\\numpy\\core\\fromnumeric.py:3438: FutureWarning: Dropping of nuisance columns in DataFrame reductions (with 'numeric_only=None') is deprecated; in a future version this will raise TypeError.  Select only valid columns before calling the reduction.\n",
      "  return mean(axis=axis, dtype=dtype, out=out, **kwargs)\n"
     ]
    }
   ],
   "source": [
    "# Import libraries necessary for this project\n",
    "import numpy as np\n",
    "import pandas as pd\n",
    "from IPython.display import display # Allows the use of display() for DataFrames\n",
    "import matplotlib.pyplot as plt\n",
    "import seaborn as sb\n",
    "\n",
    "# Pretty display for notebooks\n",
    "%matplotlib inline\n",
    "\n",
    "# Load the dataset\n",
    "in_file = 'titanic_data.csv'\n",
    "full_data = pd.read_csv(in_file)\n",
    "print(full_data.shape)\n",
    "# Print the first few entries of the RMS Titanic data\n",
    "display(full_data.head())\n",
    "full_data=full_data.fillna(np.mean(full_data))"
   ]
  },
  {
   "cell_type": "markdown",
   "metadata": {},
   "source": [
    "From a sample of the RMS Titanic data, we can see the various features present for each passenger on the ship:\n",
    "- **Survived**: Outcome of survival (0 = No; 1 = Yes)\n",
    "- **Pclass**: Socio-economic class (1 = Upper class; 2 = Middle class; 3 = Lower class)\n",
    "- **Name**: Name of passenger\n",
    "- **Sex**: Sex of the passenger\n",
    "- **Age**: Age of the passenger (Some entries contain `NaN`)\n",
    "- **SibSp**: Number of siblings and spouses of the passenger aboard\n",
    "- **Parch**: Number of parents and children of the passenger aboard\n",
    "- **Ticket**: Ticket number of the passenger\n",
    "- **Fare**: Fare paid by the passenger\n",
    "- **Cabin** Cabin number of the passenger (Some entries contain `NaN`)\n",
    "- **Embarked**: Port of embarkation of the passenger (C = Cherbourg; Q = Queenstown; S = Southampton)\n",
    "\n",
    "Since we're interested in the outcome of survival for each passenger or crew member, we can remove the **Survived** feature from this dataset and store it as its own separate variable `outcomes`. We will use these outcomes as our prediction targets.  \n",
    "Run the code cell below to remove **Survived** as a feature of the dataset and store it in `outcomes`."
   ]
  },
  {
   "cell_type": "code",
   "execution_count": 2,
   "metadata": {},
   "outputs": [
    {
     "data": {
      "text/html": [
       "<div>\n",
       "<style scoped>\n",
       "    .dataframe tbody tr th:only-of-type {\n",
       "        vertical-align: middle;\n",
       "    }\n",
       "\n",
       "    .dataframe tbody tr th {\n",
       "        vertical-align: top;\n",
       "    }\n",
       "\n",
       "    .dataframe thead th {\n",
       "        text-align: right;\n",
       "    }\n",
       "</style>\n",
       "<table border=\"1\" class=\"dataframe\">\n",
       "  <thead>\n",
       "    <tr style=\"text-align: right;\">\n",
       "      <th></th>\n",
       "      <th>PassengerId</th>\n",
       "      <th>Pclass</th>\n",
       "      <th>Name</th>\n",
       "      <th>Sex</th>\n",
       "      <th>Age</th>\n",
       "      <th>SibSp</th>\n",
       "      <th>Parch</th>\n",
       "      <th>Ticket</th>\n",
       "      <th>Fare</th>\n",
       "      <th>Cabin</th>\n",
       "      <th>Embarked</th>\n",
       "    </tr>\n",
       "  </thead>\n",
       "  <tbody>\n",
       "    <tr>\n",
       "      <th>0</th>\n",
       "      <td>1</td>\n",
       "      <td>3</td>\n",
       "      <td>Braund, Mr. Owen Harris</td>\n",
       "      <td>male</td>\n",
       "      <td>22.0</td>\n",
       "      <td>1</td>\n",
       "      <td>0</td>\n",
       "      <td>A/5 21171</td>\n",
       "      <td>7.2500</td>\n",
       "      <td>NaN</td>\n",
       "      <td>S</td>\n",
       "    </tr>\n",
       "    <tr>\n",
       "      <th>1</th>\n",
       "      <td>2</td>\n",
       "      <td>1</td>\n",
       "      <td>Cumings, Mrs. John Bradley (Florence Briggs Th...</td>\n",
       "      <td>female</td>\n",
       "      <td>38.0</td>\n",
       "      <td>1</td>\n",
       "      <td>0</td>\n",
       "      <td>PC 17599</td>\n",
       "      <td>71.2833</td>\n",
       "      <td>C85</td>\n",
       "      <td>C</td>\n",
       "    </tr>\n",
       "    <tr>\n",
       "      <th>2</th>\n",
       "      <td>3</td>\n",
       "      <td>3</td>\n",
       "      <td>Heikkinen, Miss. Laina</td>\n",
       "      <td>female</td>\n",
       "      <td>26.0</td>\n",
       "      <td>0</td>\n",
       "      <td>0</td>\n",
       "      <td>STON/O2. 3101282</td>\n",
       "      <td>7.9250</td>\n",
       "      <td>NaN</td>\n",
       "      <td>S</td>\n",
       "    </tr>\n",
       "    <tr>\n",
       "      <th>3</th>\n",
       "      <td>4</td>\n",
       "      <td>1</td>\n",
       "      <td>Futrelle, Mrs. Jacques Heath (Lily May Peel)</td>\n",
       "      <td>female</td>\n",
       "      <td>35.0</td>\n",
       "      <td>1</td>\n",
       "      <td>0</td>\n",
       "      <td>113803</td>\n",
       "      <td>53.1000</td>\n",
       "      <td>C123</td>\n",
       "      <td>S</td>\n",
       "    </tr>\n",
       "    <tr>\n",
       "      <th>4</th>\n",
       "      <td>5</td>\n",
       "      <td>3</td>\n",
       "      <td>Allen, Mr. William Henry</td>\n",
       "      <td>male</td>\n",
       "      <td>35.0</td>\n",
       "      <td>0</td>\n",
       "      <td>0</td>\n",
       "      <td>373450</td>\n",
       "      <td>8.0500</td>\n",
       "      <td>NaN</td>\n",
       "      <td>S</td>\n",
       "    </tr>\n",
       "  </tbody>\n",
       "</table>\n",
       "</div>"
      ],
      "text/plain": [
       "   PassengerId  Pclass                                               Name  \\\n",
       "0            1       3                            Braund, Mr. Owen Harris   \n",
       "1            2       1  Cumings, Mrs. John Bradley (Florence Briggs Th...   \n",
       "2            3       3                             Heikkinen, Miss. Laina   \n",
       "3            4       1       Futrelle, Mrs. Jacques Heath (Lily May Peel)   \n",
       "4            5       3                           Allen, Mr. William Henry   \n",
       "\n",
       "      Sex   Age  SibSp  Parch            Ticket     Fare Cabin Embarked  \n",
       "0    male  22.0      1      0         A/5 21171   7.2500   NaN        S  \n",
       "1  female  38.0      1      0          PC 17599  71.2833   C85        C  \n",
       "2  female  26.0      0      0  STON/O2. 3101282   7.9250   NaN        S  \n",
       "3  female  35.0      1      0            113803  53.1000  C123        S  \n",
       "4    male  35.0      0      0            373450   8.0500   NaN        S  "
      ]
     },
     "metadata": {},
     "output_type": "display_data"
    },
    {
     "name": "stdout",
     "output_type": "stream",
     "text": [
      "<class 'pandas.core.series.Series'>\n"
     ]
    }
   ],
   "source": [
    "# Store the 'Survived' feature in a new variable and remove it from the dataset\n",
    "outcomes = full_data['Survived']\n",
    "data = full_data.drop('Survived', axis = 1)\n",
    "\n",
    "# Show the new dataset with 'Survived' removed\n",
    "display(data.head())\n",
    "print(type(outcomes))"
   ]
  },
  {
   "cell_type": "markdown",
   "metadata": {},
   "source": [
    "The very same sample of the RMS Titanic data now shows the **Survived** feature removed from the DataFrame. Note that `data` (the passenger data) and `outcomes` (the outcomes of survival) are now *paired*. That means for any passenger `data.loc[i]`, they have the survival outcome `outcomes[i]`.\n",
    "\n",
    "To measure the performance of our predictions, we need a metric to score our predictions against the true outcomes of survival. Since we are interested in how *accurate* our predictions are, we will calculate the proportion of passengers where our prediction of their survival is correct. Run the code cell below to create our `accuracy_score` function and test a prediction on the first five passengers.  \n",
    "\n",
    "**Think:** *Out of the first five passengers, if we predict that all of them survived, what would you expect the accuracy of our predictions to be?*"
   ]
  },
  {
   "cell_type": "code",
   "execution_count": 3,
   "metadata": {},
   "outputs": [
    {
     "name": "stdout",
     "output_type": "stream",
     "text": [
      "Predictions have an accuracy of 60.00%.\n"
     ]
    }
   ],
   "source": [
    "def accuracy_score(truth, pred):\n",
    "    \"\"\" Returns accuracy score for input truth and predictions. \"\"\"\n",
    "    \n",
    "    # Ensure that the number of predictions matches number of outcomes\n",
    "    if len(truth) == len(pred): \n",
    "        \n",
    "        # Calculate and return the accuracy as a percent\n",
    "        return \"Predictions have an accuracy of {:.2f}%.\".format((truth == pred).mean()*100)\n",
    "    \n",
    "    else:\n",
    "        return \"Number of predictions does not match number of outcomes!\"\n",
    "    \n",
    "\n",
    "predictions = pd.Series(np.ones(5, dtype = int))#fake pred\n",
    "output=accuracy_score(outcomes[:5], predictions)\n",
    "print(output)"
   ]
  },
  {
   "cell_type": "markdown",
   "metadata": {},
   "source": [
    "truth      pred      truth == pred          truth == pred.mean() =3/5=0.6   * 100 =60%\n",
    " 1          1             T\n",
    " 1          1             T\n",
    " 0          0             T\n",
    " 1          0             F\n",
    " 0          1             F"
   ]
  },
  {
   "cell_type": "markdown",
   "metadata": {},
   "source": [
    "> **Tip:** If you save an iPython Notebook, the output from running code blocks will also be saved. However, the state of your workspace will be reset once a new session is started. Make sure that you run all of the code blocks from your previous session to reestablish variables and functions before picking up where you last left off.\n",
    "\n",
    "# Making Predictions\n",
    "\n",
    "If we were asked to make a prediction about any passenger aboard the RMS Titanic whom we knew nothing about, then the best prediction we could make would be that they did not survive. This is because we can assume that a majority of the passengers (more than 50%) did not survive the ship sinking.  \n",
    "The `predictions_0` function below will always predict that a passenger did not survive."
   ]
  },
  {
   "cell_type": "code",
   "execution_count": 4,
   "metadata": {},
   "outputs": [],
   "source": [
    "def predictions_0(data):\n",
    "    \"\"\" Model with no features. Always predicts a passenger did not survive. \"\"\"\n",
    "\n",
    "    predictions = []\n",
    "    for i in range(data.shape[0]):#len of rows\n",
    "        \n",
    "        # Predict the survival of 'passenger'\n",
    "        predictions.append(0)\n",
    "    \n",
    "    # Return our predictions\n",
    "    return pd.Series(predictions)\n",
    "\n",
    "# Make the predictions\n",
    "predictions = predictions_0(data)"
   ]
  },
  {
   "cell_type": "markdown",
   "metadata": {},
   "source": [
    "### Question 1\n",
    "\n",
    "* Using the RMS Titanic data, how accurate would a prediction be that none of the passengers survived?\n",
    "\n",
    "**Hint:** Run the code cell below to see the accuracy of this prediction."
   ]
  },
  {
   "cell_type": "code",
   "execution_count": 5,
   "metadata": {},
   "outputs": [
    {
     "name": "stdout",
     "output_type": "stream",
     "text": [
      "Predictions have an accuracy of 61.62%.\n"
     ]
    }
   ],
   "source": [
    "print(accuracy_score(outcomes, predictions))"
   ]
  },
  {
   "cell_type": "markdown",
   "metadata": {},
   "source": [
    "**Answer: put your answer here**  "
   ]
  },
  {
   "cell_type": "markdown",
   "metadata": {},
   "source": [
    "***\n",
    "Let's take a look at whether the feature **Sex** has any indication of survival rates among passengers using matplot or seaborn"
   ]
  },
  {
   "cell_type": "code",
   "execution_count": 6,
   "metadata": {},
   "outputs": [
    {
     "data": {
      "image/png": "[encoded data removed]",
      "text/plain": [
       "<Figure size 432x288 with 1 Axes>"
      ]
     },
     "metadata": {
      "needs_background": "light"
     },
     "output_type": "display_data"
    }
   ],
   "source": [
    "#to do:  find a relationship between feature \"sex\" and  survival rate\n",
    "female_data=full_data[full_data[\"Sex\"] == \"female\"]\n",
    "sb.countplot(data=female_data,x='Survived');\n",
    "plt.xlabel(\"number of passengers who survived and not survived with respect they are all females\");"
   ]
  },
  {
   "cell_type": "markdown",
   "metadata": {},
   "source": [
    "male_data=full_data[full_data[\"Sex\"] == \"male\"]\n",
    "sb.countplot(data=male_data,x='Survived');\n",
    "plt.xlabel(\"number of passengers who survived and not survived with respect they are all males\");"
   ]
  },
  {
   "cell_type": "code",
   "execution_count": 8,
   "metadata": {},
   "outputs": [
    {
     "data": {
      "image/png": "[encoded data removed]",
      "text/plain": [
       "<Figure size 720x360 with 2 Axes>"
      ]
     },
     "metadata": {
      "needs_background": "light"
     },
     "output_type": "display_data"
    }
   ],
   "source": [
    "plt.figure(figsize = [10, 5])\n",
    "# example of somewhat too-large bin size\n",
    "plt.subplot(1, 2, 1)\n",
    "male_data=full_data[full_data[\"Sex\"] == \"male\"]\n",
    "# 1 row, 2 cols, subplot 1\n",
    "sb.countplot(data=male_data,x='Survived')\n",
    "ylabel=np.arange(0,600,100)\n",
    "plt.yticks(ylabel);\n",
    "plt.xlabel(\"all males\");\n",
    "plt.subplot(1, 2, 2)\n",
    "sb.countplot(data=female_data,x='Survived');\n",
    "ylabel=np.arange(0,600,100)\n",
    "plt.yticks(ylabel);\n",
    "plt.xlabel(\"all females\");"
   ]
  },
  {
   "cell_type": "code",
   "execution_count": null,
   "metadata": {},
   "outputs": [],
   "source": [
    "def predictions_11(data):\n",
    "    \"\"\" Model with one feature: \n",
    "            - Predict a passenger survived if they are female. \"\"\"\n",
    "    \n",
    "    predictions = []\n",
    "    for i in range(0,data.shape[0]):#i represet index for every row\n",
    "        \n",
    "        # Remove the 'pass' statement below \n",
    "        # and write your prediction conditions here\n",
    "        if data.loc[i,\"Sex\"]==\"female\" :\n",
    "            predictions.append(1)\n",
    "        else:\n",
    "            predictions.append(0)\n",
    "    \n",
    "    # Return our predictions\n",
    "    return predictions\n",
    "\n",
    "# Make the predictions\n",
    "predictions11 = predictions_11(data)"
   ]
  },
  {
   "cell_type": "code",
   "execution_count": null,
   "metadata": {},
   "outputs": [],
   "source": [
    "print(accuracy_score(outcomes, predictions11))"
   ]
  },
  {
   "cell_type": "markdown",
   "metadata": {},
   "source": [
    "Examining the survival statistics, a large majority of males did not survive the ship sinking. However, a majority of females *did* survive the ship sinking. Let's build on our previous prediction: If a passenger was female, then we will predict that they survived. Otherwise, we will predict the passenger did not survive.  \n",
    "Fill in the missing code below so that the function will make this prediction.  \n",
    "**Hint:** You can access the values of each feature for a passenger like a dictionary. For example, `passenger['Sex']` is the sex of the passenger."
   ]
  },
  {
   "cell_type": "code",
   "execution_count": null,
   "metadata": {},
   "outputs": [],
   "source": [
    "def predictions_1(data):\n",
    "    \"\"\" Model with one feature: \n",
    "            - Predict a passenger survived if they are female. \"\"\"\n",
    "    \n",
    "    predictions = []\n",
    "    for i,passenger in data.iterrows():#take every row from data DF and put it in side passenger\n",
    "        \n",
    "        # Remove the 'pass' statement below \n",
    "        # and write your prediction conditions here\n",
    "        if passenger[\"Sex\"]==\"female\":\n",
    "            predictions.append(1)\n",
    "        else:\n",
    "            predictions.append(0)\n",
    "    \n",
    "    # Return our predictions\n",
    "    return pd.Series(predictions)\n",
    "\n",
    "# Make the predictions\n",
    "predictions = predictions_1(data)\n",
    "'''\n",
    "for i,passenger in data.head(1).iterrows():\n",
    "    print(i)\n",
    "    print(passenger)\n",
    "passenger[\"Sex\"]\n",
    "'''\n"
   ]
  },
  {
   "cell_type": "markdown",
   "metadata": {},
   "source": [
    "### Question 2\n",
    "\n",
    "* How accurate would a prediction be that all female passengers survived and the remaining passengers did not survive?\n",
    "\n",
    "**Hint:** Run the code cell below to see the accuracy of this prediction."
   ]
  },
  {
   "cell_type": "code",
   "execution_count": 9,
   "metadata": {},
   "outputs": [
    {
     "name": "stdout",
     "output_type": "stream",
     "text": [
      "Predictions have an accuracy of 61.62%.\n"
     ]
    }
   ],
   "source": [
    "print(accuracy_score(outcomes, predictions))"
   ]
  },
  {
   "cell_type": "markdown",
   "metadata": {},
   "source": [
    "**Answer: put your answer here**"
   ]
  },
  {
   "cell_type": "markdown",
   "metadata": {},
   "source": [
    "***\n",
    "Using just the **Sex** feature for each passenger, we are able to increase the accuracy of our predictions by a significant margin. Now, let's consider using an additional feature to see if we can further improve our predictions. For example, consider all of the male passengers aboard the RMS Titanic: Can we find a subset of those passengers that had a higher rate of survival? Let's start by looking at the **Age** of each male, by again using the **matplot and seaborn**. This time only passengers with the **Sex** 'male' will be included.  \n",
    "Run the code cell below to plot the survival outcomes of male passengers based on their age."
   ]
  },
  {
   "cell_type": "code",
   "execution_count": 10,
   "metadata": {},
   "outputs": [
    {
     "data": {
      "image/png": "[encoded data removed]",
      "text/plain": [
       "<Figure size 432x288 with 1 Axes>"
      ]
     },
     "metadata": {
      "needs_background": "light"
     },
     "output_type": "display_data"
    }
   ],
   "source": [
    "\n",
    "male_data_nsurv=full_data[(full_data[\"Sex\"] == \"male\") & (full_data[\"Survived\"] == 0)] # red\n",
    "male_data_surv=full_data[(full_data[\"Sex\"] == \"male\") & (full_data[\"Survived\"] == 1)]  # blue\n",
    "bins=np.arange(0,full_data['Age'].max()+10,10)\n",
    "plt.hist(data=male_data_nsurv,x='Age',bins=bins,color=\"black\")\n",
    "plt.hist(data=male_data_surv,x='Age',bins=bins,color=\"green\")\n",
    "plt.xlabel(\"males survival rate with respect to age \");"
   ]
  },
  {
   "cell_type": "markdown",
   "metadata": {
    "collapsed": true
   },
   "source": [
    "Examining the survival statistics, the majority of males younger than 10 survived the ship sinking, whereas most males age 10 or older *did not survive* the ship sinking. Let's continue to build on our previous prediction: If a passenger was female, then we will predict they survive. If a passenger was male and younger than 10, then we will also predict they survive. Otherwise, we will predict they do not survive.  \n",
    "Fill in the missing code below so that the function will make this prediction.  \n",
    "**Hint:** You can start your implementation of this function using the prediction code you wrote earlier from `predictions_1`."
   ]
  },
  {
   "cell_type": "code",
   "execution_count": 11,
   "metadata": {},
   "outputs": [],
   "source": [
    "def predictions_2(data):\n",
    "    \"\"\" Model with two features: \n",
    "            - Predict a passenger survived if they are female.\n",
    "            - Predict a passenger survived if they are male and younger than 10. \"\"\"\n",
    "    \n",
    "    predictions = []\n",
    "    for i,passenger in data.iterrows():\n",
    "        if passenger[\"Sex\"] == \"female\" or (passenger[\"Sex\"] == \"male\" and  passenger[\"Age\"] <10) :\n",
    "            predictions.append(1)\n",
    "        else:\n",
    "            predictions.append(0)\n",
    "        # Remove the 'pass' statement below \n",
    "        # and write your prediction conditions here\n",
    "        \n",
    "        pass\n",
    "    \n",
    "    # Return our predictions\n",
    "    return pd.Series(predictions)\n",
    "\n",
    "# Make the predictions\n",
    "predictions = predictions_2(data)\n"
   ]
  },
  {
   "cell_type": "markdown",
   "metadata": {},
   "source": [
    "### Question 3\n",
    "\n",
    "* How accurate would a prediction be that all female passengers and all male passengers younger than 10 survived? \n",
    "\n",
    "**Hint:** Run the code cell below to see the accuracy of this prediction."
   ]
  },
  {
   "cell_type": "code",
   "execution_count": 12,
   "metadata": {},
   "outputs": [
    {
     "name": "stdout",
     "output_type": "stream",
     "text": [
      "Predictions have an accuracy of 79.35%.\n"
     ]
    }
   ],
   "source": [
    "print(accuracy_score(outcomes, predictions))"
   ]
  },
  {
   "cell_type": "markdown",
   "metadata": {},
   "source": [
    "**Answer: put your asnwer here**"
   ]
  },
  {
   "cell_type": "markdown",
   "metadata": {
    "collapsed": true
   },
   "source": [
    "***\n",
    "Adding the feature **Age** as a condition in conjunction with **Sex** improves the accuracy by a small margin more than with simply using the feature **Sex** alone. Now it's your turn: Find a series of features and conditions to split the data on to obtain an outcome prediction accuracy of at least 80%. This may require multiple features and multiple levels of conditional statements to succeed. You can use the same feature multiple times with different conditions.   \n",
    "**Pclass**, **Sex**, **Age**, **SibSp**, and **Parch** are some suggested features to try.\n"
   ]
  },
  {
   "cell_type": "code",
   "execution_count": 13,
   "metadata": {},
   "outputs": [
    {
     "data": {
      "image/png": "[encoded data removed]",
      "text/plain": [
       "<Figure size 432x288 with 1 Axes>"
      ]
     },
     "metadata": {
      "needs_background": "light"
     },
     "output_type": "display_data"
    }
   ],
   "source": [
    "# todo: graph  the histogram  for the age of males (survivied in blue and not survivied in red) with respect age < 18\n",
    "male_data_nsurv1=full_data[(full_data[\"Sex\"] == \"male\") & (full_data[\"Survived\"] == 0)] \n",
    "male_data_surv1=full_data[(full_data[\"Sex\"] == \"male\") & (full_data[\"Survived\"] == 1)] \n",
    "bins=np.arange(0,19,1)\n",
    "plt.hist(data=male_data_nsurv1,x='Age',bins=bins,color=\"black\")\n",
    "plt.hist(data=male_data_surv1,x='Age',bins=bins,color=\"green\")\n",
    "plt.xlabel(\"males survival rate with respect to age < 18 \");"
   ]
  },
  {
   "cell_type": "code",
   "execution_count": 45,
   "metadata": {},
   "outputs": [
    {
     "data": {
      "image/png": "[encoded data removed]",
      "text/plain": [
       "<Figure size 1440x1440 with 4 Axes>"
      ]
     },
     "metadata": {
      "needs_background": "light"
     },
     "output_type": "display_data"
    }
   ],
   "source": [
    "plt.figure(figsize = [20,20])\n",
    "plt.subplot(5,5,1)\n",
    "#todo : graph a chart for survival and not survival  with respect they are females and no of Parch ==3\n",
    "female_data_nsu0 = full_data[(full_data[\"Sex\"] == \"female\") & (full_data[\"Parch\"] == 3)]\n",
    "sb.countplot(data=female_data_nsu0,x='Survived');\n",
    "plt.xlabel(\"female Parch = 3\");\n",
    "#todo : graph a chart for survival and not survival  with respect they are females and no of Parch ==4\n",
    "plt.subplot(5,5,2)\n",
    "female_data_nsu1 = full_data[(full_data[\"Sex\"] == \"female\") & (full_data[\"Parch\"] == 4)]\n",
    "sb.countplot(data=female_data_nsu1,x='Survived');\n",
    "plt.xlabel(\"female Parch = 4\");     \n",
    "#todo : graph a chart for survival and not survival  with respect they are females and no of Parch ==5\n",
    "plt.subplot(5,5,3)\n",
    "female_data_nsu2= full_data[(full_data[\"Sex\"] == \"female\") & (full_data[\"Parch\"] == 5)]\n",
    "sb.countplot(data=female_data_nsu2,x='Survived');\n",
    "plt.xlabel(\"female Parch = 5\");\n",
    "#todo : graph a chart for survival and not survival  with respect they are females and no of Parch ==6\n",
    "plt.subplot(5,5,4)\n",
    "female_data_nsu3 = full_data[(full_data[\"Sex\"] == \"female\") & (full_data[\"Parch\"] == 6)]\n",
    "sb.countplot(data=female_data_nsu3,x='Survived');\n",
    "plt.xlabel(\"female Parch = 6\");\n",
    "# write notes for all graphs with respect who survived the most according to no of Parch"
   ]
  },
  {
   "cell_type": "code",
   "execution_count": 42,
   "metadata": {},
   "outputs": [
    {
     "data": {
      "image/png": "[encoded data removed]",
      "text/plain": [
       "<Figure size 1440x1440 with 3 Axes>"
      ]
     },
     "metadata": {
      "needs_background": "light"
     },
     "output_type": "display_data"
    }
   ],
   "source": [
    "plt.figure(figsize = [20,20])\n",
    "plt.subplot(5,5,1)\n",
    "#todo : graph a chart for survival and not survival  with respect they are females and no of Parch ==3\n",
    "male_data_nsu0 = full_data[(full_data[\"Sex\"] == \"male\") & (full_data[\"Parch\"] == 3)]\n",
    "sb.countplot(data=male_data_nsu0,x='Survived');\n",
    "plt.xlabel(\"male Parch = 3\");\n",
    "#todo : graph a chart for survival and not survival  with respect they are females and no of Parch ==4\n",
    "plt.subplot(5,5,2)\n",
    "male_data_nsu1 = full_data[(full_data[\"Sex\"] == \"male\") & (full_data[\"Parch\"] == 4)]\n",
    "sb.countplot(data=male_data_nsu1,x='Survived');\n",
    "plt.xlabel(\"male Parch = 4\");     \n",
    "#todo : graph a chart for survival and not survival  with respect they are females and no of Parch ==5\n",
    "plt.subplot(5,5,3)\n",
    "male_data_nsu2= full_data[(full_data[\"Sex\"] == \"male\") & (full_data[\"Parch\"] == 5)]\n",
    "sb.countplot(data=male_data_nsu2,x='Survived');\n",
    "plt.xlabel(\"male Parch = 5\");\n",
    "#todo : graph a chart for survival and not survival  with respect they are females and no of Parch ==6\n",
    "# write notes for all graphs with respect who survived the most according to no of Parch"
   ]
  },
  {
   "cell_type": "code",
   "execution_count": 67,
   "metadata": {},
   "outputs": [
    {
     "data": {
      "image/png": "[encoded data removed]",
      "text/plain": [
       "<Figure size 1440x1440 with 6 Axes>"
      ]
     },
     "metadata": {
      "needs_background": "light"
     },
     "output_type": "display_data"
    }
   ],
   "source": [
    "plt.figure(figsize = [20,20])\n",
    "plt.subplot(5,5,1)\n",
    "#todo : graph a chart for survival and not survival  with respect they are females and no of Parch ==3\n",
    "female_data_nsu0 = full_data[(full_data[\"Sex\"] == \"female\") & (full_data[\"SibSp\"] == 0)]\n",
    "sb.countplot(data=female_data_nsu0,x='Survived');\n",
    "plt.xlabel(\"female SibSp = 0\");\n",
    "#todo : graph a chart for survival and not survival  with respect they are females and no of Parch ==4\n",
    "plt.subplot(5,5,2)\n",
    "female_data_nsu0 = full_data[(full_data[\"Sex\"] == \"female\") & (full_data[\"SibSp\"] == 1)]\n",
    "sb.countplot(data=female_data_nsu0,x='Survived');\n",
    "plt.xlabel(\"female SibSp = 1\");   \n",
    "#todo : graph a chart for survival and not survival  with respect they are females and no of Parch ==5\n",
    "plt.subplot(5,5,3)\n",
    "female_data_nsu0 = full_data[(full_data[\"Sex\"] == \"female\") & (full_data[\"SibSp\"] == 2)]\n",
    "sb.countplot(data=female_data_nsu0,x='Survived');\n",
    "plt.xlabel(\"female SibSp = 2\");\n",
    "#todo : graph a chart for survival and not survival  with respect they are females and no of Parch ==6\n",
    "plt.subplot(5,5,4)\n",
    "female_data_nsu0 = full_data[(full_data[\"Sex\"] == \"female\") & (full_data[\"SibSp\"] == 3)]\n",
    "sb.countplot(data=female_data_nsu0,x='Survived');\n",
    "plt.xlabel(\"female SibSp = 3\");\n",
    "plt.subplot(5,5,5)\n",
    "female_data_nsu0 = full_data[(full_data[\"Sex\"] == \"female\") & (full_data[\"SibSp\"] == 4)]\n",
    "sb.countplot(data=female_data_nsu0,x='Survived');\n",
    "plt.xlabel(\"female SibSp = 4\");\n",
    "plt.subplot(5,5,6)\n",
    "female_data_nsu0 = full_data[(full_data[\"Sex\"] == \"female\") & (full_data[\"SibSp\"] == 5)]\n",
    "sb.countplot(data=female_data_nsu0,x='Survived');\n",
    "plt.xlabel(\"female SibSp = 5\");"
   ]
  },
  {
   "cell_type": "code",
   "execution_count": 70,
   "metadata": {},
   "outputs": [
    {
     "data": {
      "image/png": "[encoded data removed]",
      "text/plain": [
       "<Figure size 1440x1440 with 6 Axes>"
      ]
     },
     "metadata": {
      "needs_background": "light"
     },
     "output_type": "display_data"
    }
   ],
   "source": [
    "plt.figure(figsize = [20,20])\n",
    "plt.subplot(5,5,1)\n",
    "#todo : graph a chart for survival and not survival  with respect they are females and no of Parch ==3\n",
    "male_data_nsu0 = full_data[(full_data[\"Sex\"] == \"male\") & (full_data[\"SibSp\"] == 0)]\n",
    "sb.countplot(data=male_data_nsu0,x='Survived');\n",
    "plt.xlabel(\"male SibSp = 0\");\n",
    "#todo : graph a chart for survival and not survival  with respect they are females and no of Parch ==4\n",
    "plt.subplot(5,5,2)\n",
    "female_data_nsu0 = full_data[(full_data[\"Sex\"] == \"male\") & (full_data[\"SibSp\"] == 1)]\n",
    "sb.countplot(data=female_data_nsu0,x='Survived');\n",
    "plt.xlabel(\"male SibSp = 1\");   \n",
    "#todo : graph a chart for survival and not survival  with respect they are females and no of Parch ==5\n",
    "plt.subplot(5,5,3)\n",
    "female_data_nsu0 = full_data[(full_data[\"Sex\"] == \"male\") & (full_data[\"SibSp\"] == 2)]\n",
    "sb.countplot(data=female_data_nsu0,x='Survived');\n",
    "plt.xlabel(\"male SibSp = 2\");\n",
    "#todo : graph a chart for survival and not survival  with respect they are females and no of Parch ==6\n",
    "plt.subplot(5,5,4)\n",
    "female_data_nsu0 = full_data[(full_data[\"Sex\"] == \"male\") & (full_data[\"SibSp\"] == 3)]\n",
    "sb.countplot(data=female_data_nsu0,x='Survived');\n",
    "plt.xlabel(\"male SibSp = 3\");\n",
    "plt.subplot(5,5,5)\n",
    "female_data_nsu0 = full_data[(full_data[\"Sex\"] == \"male\") & (full_data[\"SibSp\"] == 4)]\n",
    "sb.countplot(data=female_data_nsu0,x='Survived');\n",
    "plt.xlabel(\"male SibSp = 4\");\n",
    "plt.subplot(5,5,6)\n",
    "female_data_nsu0 = full_data[(full_data[\"Sex\"] == \"male\") & (full_data[\"SibSp\"] == 5)]\n",
    "sb.countplot(data=female_data_nsu0,x='Survived');\n",
    "plt.xlabel(\"male SibSp = 5\");"
   ]
  },
  {
   "cell_type": "code",
   "execution_count": 33,
   "metadata": {},
   "outputs": [
    {
     "data": {
      "image/png": "[encoded data removed]",
      "text/plain": [
       "<Figure size 1440x1440 with 3 Axes>"
      ]
     },
     "metadata": {
      "needs_background": "light"
     },
     "output_type": "display_data"
    }
   ],
   "source": [
    "plt.figure(figsize = [20,20])\n",
    "plt.subplot(5,5,1)\n",
    "#todo : graph a chart for survival and not survival  with respect they are males and Pclass ==1\n",
    "male_data_nsu0 = full_data[(full_data[\"Sex\"] == \"male\") & (full_data[\"Pclass\"] == 1)]\n",
    "sb.countplot(data=male_data_nsu0,x='Survived');\n",
    "plt.xlabel(\"male Pclass = 1\");\n",
    "#todo : graph a chart for survival and not survival  with respect they are males and Pclass ==2\n",
    "plt.subplot(5,5,2)\n",
    "male_data_nsu1 = full_data[(full_data[\"Sex\"] == \"male\") & (full_data[\"Pclass\"] == 2)]\n",
    "sb.countplot(data=male_data_nsu1,x='Survived');\n",
    "plt.xlabel(\"male Pclass = 2\");\n",
    "#todo : graph a chart for survival and not survival  with respect they are males and Pclass ==3\n",
    "plt.subplot(5,5,3)\n",
    "male_data_nsu2 = full_data[(full_data[\"Sex\"] == \"male\") & (full_data[\"Pclass\"] == 3)]\n",
    "sb.countplot(data=male_data_nsu2,x='Survived');\n",
    "plt.xlabel(\"male Pclass = 3\");\n",
    "# write notes for all graphs with respect who survived the most according to Pclass"
   ]
  },
  {
   "cell_type": "code",
   "execution_count": 34,
   "metadata": {},
   "outputs": [
    {
     "data": {
      "image/png": "[encoded data removed]",
      "text/plain": [
       "<Figure size 1440x1440 with 3 Axes>"
      ]
     },
     "metadata": {
      "needs_background": "light"
     },
     "output_type": "display_data"
    }
   ],
   "source": [
    "plt.figure(figsize = [20,20])\n",
    "plt.subplot(5,5,1)\n",
    "#todo : graph a chart for survival and not survival  with respect they are males and Pclass ==1\n",
    "female_data_nsu0 = full_data[(full_data[\"Sex\"] == \"female\") & (full_data[\"Pclass\"] == 1)]\n",
    "sb.countplot(data=female_data_nsu0,x='Survived');\n",
    "plt.xlabel(\"female Pclass = 1\");\n",
    "#todo : graph a chart for survival and not survival  with respect they are males and Pclass ==2\n",
    "plt.subplot(5,5,2)\n",
    "female_data_nsu1 = full_data[(full_data[\"Sex\"] == \"female\") & (full_data[\"Pclass\"] == 2)]\n",
    "sb.countplot(data=female_data_nsu1,x='Survived');\n",
    "plt.xlabel(\"female Pclass = 2\");\n",
    "#todo : graph a chart for survival and not survival  with respect they are males and Pclass ==3\n",
    "plt.subplot(5,5,3)\n",
    "male_data_nsu2 = full_data[(full_data[\"Sex\"] == \"female\") & (full_data[\"Pclass\"] == 3)]\n",
    "sb.countplot(data=female_data_nsu2,x='Survived');\n",
    "plt.xlabel(\"female Pclass = 3\");\n",
    "# write notes for all graphs with respect who survived the most according to Pclass"
   ]
  },
  {
   "cell_type": "code",
   "execution_count": 26,
   "metadata": {},
   "outputs": [
    {
     "data": {
      "image/png": "[encoded data removed]",
      "text/plain": [
       "<Figure size 432x288 with 1 Axes>"
      ]
     },
     "metadata": {
      "needs_background": "light"
     },
     "output_type": "display_data"
    }
   ],
   "source": [
    "# todo: graph  the histogram  for the age of males (survivied in blue and not survivied in red) with respect  Pclass=1\n",
    "# write notes for this graph with respect who survived the most according to age\n",
    "male_data_nosur0 = full_data[(full_data[\"Sex\"] == \"male\") & ((full_data[\"Survived\"] == 0) & (full_data[\"Pclass\"] == 1))] # red\n",
    "male_data_sur0 = full_data[(full_data[\"Sex\"] == \"male\") & ((full_data[\"Survived\"] == 1) &  (full_data[\"Pclass\"] == 1))]\n",
    "bins=np.arange(0,full_data['Age'].max()+10,10)\n",
    "plt.hist(data=male_data_nosur0,x='Age',bins=bins,color=\"black\")\n",
    "plt.hist(data=male_data_sur0,x='Age',bins=bins,color=\"green\")\n",
    "plt.xlabel(\"The age of males (survivied in blue and not survivied in red) with respect  Pclass=1\");"
   ]
  },
  {
   "cell_type": "markdown",
   "metadata": {},
   "source": [
    "After exploring the survival statistics visualization, fill in the missing code below so that the function will make your prediction.  \n",
    "Make sure to keep track of the various features and conditions you tried before arriving at your final prediction model.  \n",
    "**Hint:** You can start your implementation of this function using the prediction code you wrote earlier from `predictions_2`."
   ]
  },
  {
   "cell_type": "code",
   "execution_count": 27,
   "metadata": {},
   "outputs": [
    {
     "data": {
      "image/png": "[encoded data removed]",
      "text/plain": [
       "<Figure size 432x288 with 1 Axes>"
      ]
     },
     "metadata": {
      "needs_background": "light"
     },
     "output_type": "display_data"
    }
   ],
   "source": [
    "male_data_nosur0 = full_data[(full_data[\"Sex\"] == \"male\") & ((full_data[\"Survived\"] == 0) & (full_data[\"Pclass\"] == 2))] # red\n",
    "male_data_sur0 = full_data[(full_data[\"Sex\"] == \"male\") & ((full_data[\"Survived\"] == 1) &  (full_data[\"Pclass\"] == 2))]\n",
    "bins=np.arange(0,full_data['Age'].max()+10,10)\n",
    "plt.hist(data=male_data_nosur0,x='Age',bins=bins,color=\"black\")\n",
    "plt.hist(data=male_data_sur0,x='Age',bins=bins,color=\"green\")\n",
    "plt.xlabel(\"The age of males (survivied in blue and not survivied in red) with respect  Pclass=2\");"
   ]
  },
  {
   "cell_type": "code",
   "execution_count": 28,
   "metadata": {},
   "outputs": [
    {
     "data": {
      "image/png": "[encoded data removed]",
      "text/plain": [
       "<Figure size 432x288 with 1 Axes>"
      ]
     },
     "metadata": {
      "needs_background": "light"
     },
     "output_type": "display_data"
    }
   ],
   "source": [
    "male_data_nosur0 = full_data[(full_data[\"Sex\"] == \"male\") & ((full_data[\"Survived\"] == 0) & (full_data[\"Pclass\"] == 3))] # red\n",
    "male_data_sur0 = full_data[(full_data[\"Sex\"] == \"male\") & ((full_data[\"Survived\"] == 1) &  (full_data[\"Pclass\"] == 3))]\n",
    "bins=np.arange(0,full_data['Age'].max()+10,10)\n",
    "plt.hist(data=male_data_nosur0,x='Age',bins=bins,color=\"black\")\n",
    "plt.hist(data=male_data_sur0,x='Age',bins=bins,color=\"green\")\n",
    "plt.xlabel(\"The age of males (survivied in blue and not survivied in red) with respect  Pclass=3\");"
   ]
  },
  {
   "cell_type": "code",
   "execution_count": 80,
   "metadata": {},
   "outputs": [],
   "source": [
    "def predictions_3(data):\n",
    "    \"\"\" Model with multiple features. Makes a prediction with an accuracy of at least 80%. \"\"\"\n",
    "    \n",
    "    predictions = []\n",
    "    for i, passenger in data.iterrows():\n",
    "        if passenger[\"Sex\"] == \"female\" :\n",
    "            if (((passenger[\"Pclass\"] == 1) or (passenger[\"Pclass\"] == 2)) or ((passenger[\"Parch\"] == 3) or (passenger[\"SibSp\"] in range(0,3)))):\n",
    "                 predictions.append(1)\n",
    "            else :\n",
    "                 predictions.append(0)\n",
    "        elif passenger[\"Sex\"] == \"male\" :\n",
    "            if (((passenger[\"Age\"] < 10) and (passenger[\"Pclass\"] != 3)) or ((passenger[\"Age\"] in range(30,40)) and (passenger[\"Pclass\"] == 1))):\n",
    "                predictions.append(1)\n",
    "            else :\n",
    "                 predictions.append(0)\n",
    "    # Return our predictions\n",
    "    return pd.Series(predictions)\n",
    "\n",
    "# Make the predictions\n",
    "predictions = predictions_3(data)"
   ]
  },
  {
   "cell_type": "markdown",
   "metadata": {},
   "source": [
    "### Question 4\n",
    "\n",
    "* Describe the steps you took to implement the final prediction model so that it got **an accuracy of at least 80%**. What features did you look at? Were certain features more informative than others? Which conditions did you use to split the survival outcomes in the data? How accurate are your predictions?\n",
    "\n",
    "**Hint:** Run the code cell below to see the accuracy of your predictions."
   ]
  },
  {
   "cell_type": "code",
   "execution_count": 81,
   "metadata": {},
   "outputs": [
    {
     "name": "stdout",
     "output_type": "stream",
     "text": [
      "Predictions have an accuracy of 81.37%.\n"
     ]
    }
   ],
   "source": [
    "print(accuracy_score(outcomes, predictions))"
   ]
  },
  {
   "cell_type": "markdown",
   "metadata": {},
   "source": [
    "**Answer: put your answer here** "
   ]
  },
  {
   "cell_type": "code",
   "execution_count": null,
   "metadata": {},
   "outputs": [],
   "source": []
  }
 ],
 "metadata": {
  "kernelspec": {
   "display_name": "Python 3 (ipykernel)",
   "language": "python",
   "name": "python3"
  },
  "language_info": {
   "codemirror_mode": {
    "name": "ipython",
    "version": 3
   },
   "file_extension": ".py",
   "mimetype": "text/x-python",
   "name": "python",
   "nbconvert_exporter": "python",
   "pygments_lexer": "ipython3",
   "version": "3.9.12"
  }
 },
 "nbformat": 4,
 "nbformat_minor": 1
}
